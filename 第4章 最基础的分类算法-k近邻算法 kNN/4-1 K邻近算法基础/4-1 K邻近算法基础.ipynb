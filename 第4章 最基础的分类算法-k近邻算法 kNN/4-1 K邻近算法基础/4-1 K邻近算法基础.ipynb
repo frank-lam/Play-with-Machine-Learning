{
 "cells": [
  {
   "cell_type": "markdown",
   "metadata": {},
   "source": [
    "![](https://ws1.sinaimg.cn/large/006Ww85igy1fmz5k4xgdjj30et083q44.jpg)\n",
    "1. 首先要读取数据进来，读取特征存储到X，特征是一个多维向量，然后读取存储到y；  \n",
    "  a. 把特征向量的每个样本点用matplotlib.pyplot绘制出来啊；  \n",
    "  b. 加上颜色更清楚；   \n",
    "  c. 特征点分布在特征空间中；  \n",
    "2. 然后就可以操作了，首先是计算到各个点的距离distances；  \n",
    "  a. 两个样本距离足够靠近的话，然后类别投票；\n",
    "3. 然后是计算这些距离分别的结果是对应的什么，是0是1还是什么？  \n",
    "4. 然后干嘛？？？忘记了  "
   ]
  },
  {
   "cell_type": "markdown",
   "metadata": {},
   "source": [
    "KNN可以用来解决分类问题"
   ]
  },
  {
   "cell_type": "code",
   "execution_count": 5,
   "metadata": {
    "collapsed": true
   },
   "outputs": [],
   "source": [
    "import numpy as np\n",
    "import matplotlib.pyplot as plt\n",
    "import math # math里的sqrt和np.sqrt的区别？"
   ]
  },
  {
   "cell_type": "code",
   "execution_count": 6,
   "metadata": {
    "collapsed": true
   },
   "outputs": [],
   "source": [
    "# 一行表示一个特征向量样本，从上往下就像排队一样，又好比堆栈一样\n",
    "raw_data_X = [[3.3935, 2.3312],\n",
    "              [3.1100, 1.7815],\n",
    "              [1.3438, 3.3683],\n",
    "              [3.5822, 4.6791],\n",
    "              [2.2803, 2.8669],\n",
    "              [7.4234, 4.6965],\n",
    "              [5.7450, 3.5339],\n",
    "              [9.1721, 2.5111],\n",
    "              [7.7927, 3.4240],\n",
    "              [7.9398, 0.7791]]\n",
    "raw_data_y = [0, 0, 0, 0, 0, 1, 1, 1, 1, 1]"
   ]
  },
  {
   "cell_type": "code",
   "execution_count": 7,
   "metadata": {
    "collapsed": true
   },
   "outputs": [],
   "source": [
    "X_train = np.array(raw_data_X) # 变成其他过程的输入了，转换过程、转换状态\n",
    "y_train = np.array(raw_data_y) # 改变数据形式，原来是Python的list数据格式，现在变成"
   ]
  },
  {
   "cell_type": "code",
   "execution_count": 8,
   "metadata": {},
   "outputs": [
    {
     "data": {
      "image/png": "[encoded data removed]",
      "text/plain": [
       "<matplotlib.figure.Figure at 0x1fce1c92978>"
      ]
     },
     "metadata": {},
     "output_type": "display_data"
    }
   ],
   "source": [
    "plt.scatter(X_train[y_train==0, 0], X_train[y_train==0, 1], color='g') # 这里的 0/1 就相当于 f_1(x)/f_2(x)\n",
    "# y_train==0得到布尔列表\n",
    "plt.scatter(X_train[y_train==1, 0], X_train[y_train==1, 1], color='r') # 这里的 0/1 就相当于 f_1(x)/f_2(x)\n",
    "plt.show()"
   ]
  },
  {
   "cell_type": "code",
   "execution_count": 9,
   "metadata": {
    "collapsed": true
   },
   "outputs": [],
   "source": [
    "x = np.array([8.1234, 3.4320]) # 样本数组"
   ]
  },
  {
   "cell_type": "code",
   "execution_count": 10,
   "metadata": {
    "scrolled": true
   },
   "outputs": [
    {
     "data": {
      "image/png": "[encoded data removed]",
      "text/plain": [
       "<matplotlib.figure.Figure at 0x1fce210fd68>"
      ]
     },
     "metadata": {},
     "output_type": "display_data"
    }
   ],
   "source": [
    "plt.scatter(X_train[y_train==0, 0], X_train[y_train==0, 1], color='g') # 这里的 0/1 就相当于 f_1(x)/f_2(x)\n",
    "plt.scatter(X_train[y_train==1, 0], X_train[y_train==1, 1], color='r') # 这里的 0/1 就相当于 f_1(x)/f_2(x)\n",
    "plt.scatter(x[0], x[1], color='b')\n",
    "plt.show()"
   ]
  },
  {
   "cell_type": "markdown",
   "metadata": {},
   "source": [
    "### KNN的过程"
   ]
  },
  {
   "cell_type": "markdown",
   "metadata": {},
   "source": [
    "1. 就是求出一个特征的距离向量；\n",
    "2. 然后对这个距离向量从小到大排序，对索引排序因为索引保留结果信息；\n",
    "3. 然后把索引改为结果，看看前k个里面的哪种结果更多；\n",
    "![](https://ws1.sinaimg.cn/large/006Ww85igy1fmz5z6msj1j30fg08i751.jpg)"
   ]
  },
  {
   "cell_type": "code",
   "execution_count": 45,
   "metadata": {},
   "outputs": [
    {
     "data": {
      "text/plain": [
       "array([10, 20], dtype=int32)"
      ]
     },
     "execution_count": 45,
     "metadata": {},
     "output_type": "execute_result"
    }
   ],
   "source": [
    "xx = [[1, 2],\n",
    "      [3, 4]]\n",
    "# xx**2 # 不可以list不支持元素平方操作，必须转换为np.array\n",
    "xx = np.array(xx) \n",
    "xx**2 # 可以对每个元素求平方\n",
    "# np.sum(xx**2) # 这个是把所有元素相加，不是预期的对行向量操作\n",
    "np.sum(xx**2, axis=0) # axis=0是竖直方向"
   ]
  },
  {
   "cell_type": "code",
   "execution_count": 50,
   "metadata": {},
   "outputs": [
    {
     "data": {
      "text/plain": [
       "array([ 4, 16], dtype=int32)"
      ]
     },
     "execution_count": 50,
     "metadata": {},
     "output_type": "execute_result"
    }
   ],
   "source": [
    "# feature_distances = np.sqrt(X_train-x)\n",
    "X_train - x\n",
    "(X_train - x)**2\n",
    "xx = np.array([2, 4]) # 转换为数学形式的np.array\n",
    "xx ** 2 # 默认整型就是整型\n",
    "np.sqrt(xx ** 2) # 对矩阵的每一个元素操作"
   ]
  },
  {
   "cell_type": "code",
   "execution_count": 61,
   "metadata": {},
   "outputs": [
    {
     "data": {
      "text/plain": [
       "array([8, 7, 5, 6, 9, 3, 0, 1, 4, 2], dtype=int64)"
      ]
     },
     "execution_count": 61,
     "metadata": {},
     "output_type": "execute_result"
    }
   ],
   "source": [
    "# [2, 4] 到 [1, 3] 的距离就是sqrt((2-1)^2+(4-3)^2)\n",
    "feature_distances = [] # 相当于列表声明\n",
    "feature_distances = np.sqrt(((X_train-x)**2)[:, 0]+((X_train-x)**2)[:, 1]) # 这个正好和上面的精简式子对应\n",
    "# 因为操作都是对行向量操作的，可以用sum代替\n",
    "(X_train-x)**2 # 得到每个样本的各个特征的平方矩阵\n",
    "np.sum((X_train-x)**2, axis=1) # 得到每个样本的和\n",
    "np.sqrt(np.sum((X_train-x)**2, axis=1)) # 得到每个样本的距离\n",
    "feature_distances = []\n",
    "feature_distances = np.sqrt(np.sum((X_train-x)**2, axis=0))\n",
    "\n",
    "# 上面是利用axis来单独操作行列实现了矩阵的整体操作，简洁但是不直观，直观的方法是每次只处理一个样本，然后单独扔到一个列表里\n",
    "feature_distances = [np.sqrt(np.sum((x_train-x)**2)) for x_train in X_train] # for x_train in X_train 就是每个元素看做一个向量\n",
    "# 但是这样又出现了一个问题，就是用的list，所以还要再转换为np.array格式\n",
    "feature_distances = np.array(feature_distances)\n",
    "# list中没有argsort方法，但是np.argsort则可以处理list格式的数据，所以可以把数据都传入到np方法中去，而不是直接调用数据类型的成员方法\n",
    "\n",
    "distances_argsort = np.argsort(feature_distances)\n",
    "distances_argsort = feature_distances.argsort() # 调用了一个np.array类的成员方法argsort()\n",
    "distances_argsort # 怎么自动升级为int64了\n",
    "# distances_argsort其实就是邻近排序了，所以重新命名下\n",
    "nearest = distances_argsort"
   ]
  },
  {
   "cell_type": "code",
   "execution_count": 66,
   "metadata": {
    "collapsed": true
   },
   "outputs": [],
   "source": [
    "# 把索引改为结果，找到索引对应的y_train的结果\n",
    "y_train.shape[0] # 得到列数\n",
    "# distances_y = distances_y.append([y_train[distances_argsort[i] for i in range(y_train.shape[0])]])\n",
    "# [y_train[distances_argsort[i] for i in range(y_train.shape[0])]]\n",
    "[distances_argsort[i] for i in range(y_train.shape[0])] # 可以运行\n",
    "[y_train[distances_argsort[i]] for i in range(y_train.shape[0])] # 替换可以运行的部分\n",
    "\n",
    "# 可以直接用for循环遍历列表的元素，而不需要用索引间接遍历，所以\n",
    "[y_train[i] for i in distances_argsort]\n",
    "# 因为是KNN嘛，所以判断前K个最近点topK的结果y就可以了\n",
    "K = 6\n",
    "topK_y = [y_train[i] for i in distances_argsort[:K]] # 0~K-1"
   ]
  },
  {
   "cell_type": "code",
   "execution_count": 68,
   "metadata": {},
   "outputs": [
    {
     "data": {
      "text/plain": [
       "[1, 1, 1, 1, 1, 0]"
      ]
     },
     "execution_count": 68,
     "metadata": {},
     "output_type": "execute_result"
    }
   ],
   "source": [
    "topK_y # 变量一般单独写一个cell便于查看"
   ]
  },
  {
   "cell_type": "code",
   "execution_count": 70,
   "metadata": {},
   "outputs": [
    {
     "data": {
      "text/plain": [
       "Counter({0: 1, 1: 5})"
      ]
     },
     "execution_count": 70,
     "metadata": {},
     "output_type": "execute_result"
    }
   ],
   "source": [
    "from collections import Counter # 引入Counter包\n",
    "Counter(topK_y) # 分类数数"
   ]
  },
  {
   "cell_type": "code",
   "execution_count": 71,
   "metadata": {
    "collapsed": true
   },
   "outputs": [],
   "source": [
    "votes = Counter(topK_y) # 投票统计好了"
   ]
  },
  {
   "cell_type": "code",
   "execution_count": 72,
   "metadata": {
    "collapsed": true
   },
   "outputs": [],
   "source": [
    "winners_votes = votes.most_common(2)"
   ]
  },
  {
   "cell_type": "code",
   "execution_count": 76,
   "metadata": {
    "collapsed": true
   },
   "outputs": [],
   "source": [
    "winner_votes = votes.most_common(1)"
   ]
  },
  {
   "cell_type": "code",
   "execution_count": 77,
   "metadata": {
    "collapsed": true
   },
   "outputs": [],
   "source": [
    "winner_name = winner_votes[0][0] # 前一个0表示第1个元组，第2个0表示第1个元组的第1个元素"
   ]
  },
  {
   "cell_type": "code",
   "execution_count": 78,
   "metadata": {},
   "outputs": [
    {
     "data": {
      "text/plain": [
       "1"
      ]
     },
     "execution_count": 78,
     "metadata": {},
     "output_type": "execute_result"
    }
   ],
   "source": [
    "winner_name"
   ]
  },
  {
   "cell_type": "code",
   "execution_count": 79,
   "metadata": {
    "collapsed": true
   },
   "outputs": [],
   "source": [
    "# 实际上有意义的名字是预测\n",
    "predict_y = winner_name"
   ]
  },
  {
   "cell_type": "code",
   "execution_count": 81,
   "metadata": {},
   "outputs": [
    {
     "data": {
      "text/plain": [
       "1"
      ]
     },
     "execution_count": 81,
     "metadata": {},
     "output_type": "execute_result"
    }
   ],
   "source": [
    "predict_y"
   ]
  },
  {
   "cell_type": "markdown",
   "metadata": {},
   "source": [
    "np.argsort()  \n",
    "from collection import Conter  \n",
    "查询文档  \n",
    "下一节看skilearn是如何封装算法的以及所有的算法封装的特点是什么，以及为什么这样封装？"
   ]
  },
  {
   "cell_type": "code",
   "execution_count": 82,
   "metadata": {
    "collapsed": true
   },
   "outputs": [],
   "source": [
    "a = np.array(np.arange(40).reshape(5, -1))"
   ]
  },
  {
   "cell_type": "code",
   "execution_count": 83,
   "metadata": {},
   "outputs": [
    {
     "data": {
      "text/plain": [
       "array([[ 0,  1,  2,  3,  4,  5,  6,  7],\n",
       "       [ 8,  9, 10, 11, 12, 13, 14, 15],\n",
       "       [16, 17, 18, 19, 20, 21, 22, 23],\n",
       "       [24, 25, 26, 27, 28, 29, 30, 31],\n",
       "       [32, 33, 34, 35, 36, 37, 38, 39]])"
      ]
     },
     "execution_count": 83,
     "metadata": {},
     "output_type": "execute_result"
    }
   ],
   "source": [
    "a"
   ]
  },
  {
   "cell_type": "code",
   "execution_count": 99,
   "metadata": {},
   "outputs": [
    {
     "ename": "IndexError",
     "evalue": "shape mismatch: indexing arrays could not be broadcast together with shapes (3,) (2,) ",
     "output_type": "error",
     "traceback": [
      "\u001b[1;31m---------------------------------------------------------------------------\u001b[0m",
      "\u001b[1;31mIndexError\u001b[0m                                Traceback (most recent call last)",
      "\u001b[1;32m<ipython-input-99-901d94340b32>\u001b[0m in \u001b[0;36m<module>\u001b[1;34m()\u001b[0m\n\u001b[1;32m----> 1\u001b[1;33m \u001b[0ma\u001b[0m\u001b[1;33m[\u001b[0m\u001b[1;33m[\u001b[0m\u001b[1;36m1\u001b[0m\u001b[1;33m,\u001b[0m \u001b[1;36m3\u001b[0m\u001b[1;33m,\u001b[0m \u001b[1;36m4\u001b[0m\u001b[1;33m]\u001b[0m\u001b[1;33m,\u001b[0m \u001b[1;33m[\u001b[0m\u001b[1;36m3\u001b[0m\u001b[1;33m,\u001b[0m \u001b[1;36m5\u001b[0m\u001b[1;33m]\u001b[0m\u001b[1;33m]\u001b[0m \u001b[1;31m# 错误\u001b[0m\u001b[1;33m\u001b[0m\u001b[0m\n\u001b[0m",
      "\u001b[1;31mIndexError\u001b[0m: shape mismatch: indexing arrays could not be broadcast together with shapes (3,) (2,) "
     ]
    }
   ],
   "source": [
    "a[[1, 3, 4], [3, 5]] # 错误"
   ]
  },
  {
   "cell_type": "code",
   "execution_count": 100,
   "metadata": {},
   "outputs": [
    {
     "ename": "IndexError",
     "evalue": "too many indices for array",
     "output_type": "error",
     "traceback": [
      "\u001b[1;31m---------------------------------------------------------------------------\u001b[0m",
      "\u001b[1;31mIndexError\u001b[0m                                Traceback (most recent call last)",
      "\u001b[1;32m<ipython-input-100-00eec3ae97c2>\u001b[0m in \u001b[0;36m<module>\u001b[1;34m()\u001b[0m\n\u001b[1;32m----> 1\u001b[1;33m \u001b[0ma\u001b[0m\u001b[1;33m[\u001b[0m\u001b[1;36m1\u001b[0m\u001b[1;33m,\u001b[0m \u001b[1;36m3\u001b[0m\u001b[1;33m,\u001b[0m \u001b[1;36m4\u001b[0m\u001b[1;33m]\u001b[0m\u001b[1;33m[\u001b[0m\u001b[1;36m3\u001b[0m\u001b[1;33m,\u001b[0m \u001b[1;36m5\u001b[0m\u001b[1;33m]\u001b[0m \u001b[1;31m# 错误\u001b[0m\u001b[1;33m\u001b[0m\u001b[0m\n\u001b[0m",
      "\u001b[1;31mIndexError\u001b[0m: too many indices for array"
     ]
    }
   ],
   "source": [
    "a[1, 3, 4][3, 5] # 错误"
   ]
  },
  {
   "cell_type": "code",
   "execution_count": 98,
   "metadata": {},
   "outputs": [
    {
     "data": {
      "text/plain": [
       "array([[11, 13],\n",
       "       [27, 29],\n",
       "       [35, 37]])"
      ]
     },
     "execution_count": 98,
     "metadata": {},
     "output_type": "execute_result"
    }
   ],
   "source": [
    "a[[1, 3, 4], :][:, [3, 5]]"
   ]
  },
  {
   "cell_type": "code",
   "execution_count": 95,
   "metadata": {},
   "outputs": [
    {
     "ename": "SyntaxError",
     "evalue": "invalid syntax (<ipython-input-95-dc491526e703>, line 2)",
     "output_type": "error",
     "traceback": [
      "\u001b[1;36m  File \u001b[1;32m\"<ipython-input-95-dc491526e703>\"\u001b[1;36m, line \u001b[1;32m2\u001b[0m\n\u001b[1;33m    a[[[1, 3, 4], :], [:, [3, 5]]] # 为什么错误？但是下面的写法可以\u001b[0m\n\u001b[1;37m                  ^\u001b[0m\n\u001b[1;31mSyntaxError\u001b[0m\u001b[1;31m:\u001b[0m invalid syntax\n"
     ]
    }
   ],
   "source": [
    "# 推荐的写法\n",
    "a[[[1, 3, 4], :], [:, [3, 5]]] # 为什么错误？但是下面的写法可以"
   ]
  },
  {
   "cell_type": "code",
   "execution_count": 96,
   "metadata": {},
   "outputs": [
    {
     "data": {
      "text/plain": [
       "array([[ 0,  1,  2],\n",
       "       [ 8,  9, 10]])"
      ]
     },
     "execution_count": 96,
     "metadata": {},
     "output_type": "execute_result"
    }
   ],
   "source": [
    "a[:2, :3]"
   ]
  },
  {
   "cell_type": "code",
   "execution_count": 90,
   "metadata": {},
   "outputs": [
    {
     "data": {
      "text/plain": [
       "array([[ 8,  9, 10, 11, 12, 13, 14, 15],\n",
       "       [24, 25, 26, 27, 28, 29, 30, 31],\n",
       "       [32, 33, 34, 35, 36, 37, 38, 39]])"
      ]
     },
     "execution_count": 90,
     "metadata": {},
     "output_type": "execute_result"
    }
   ],
   "source": [
    "a[[1, 3, 4], :]"
   ]
  },
  {
   "cell_type": "code",
   "execution_count": 91,
   "metadata": {},
   "outputs": [
    {
     "ename": "IndexError",
     "evalue": "shape mismatch: indexing arrays could not be broadcast together with shapes (3,) (2,) ",
     "output_type": "error",
     "traceback": [
      "\u001b[1;31m---------------------------------------------------------------------------\u001b[0m",
      "\u001b[1;31mIndexError\u001b[0m                                Traceback (most recent call last)",
      "\u001b[1;32m<ipython-input-91-9fc6642b98e5>\u001b[0m in \u001b[0;36m<module>\u001b[1;34m()\u001b[0m\n\u001b[1;32m----> 1\u001b[1;33m \u001b[0ma\u001b[0m\u001b[1;33m[\u001b[0m\u001b[1;33m[\u001b[0m\u001b[1;36m1\u001b[0m\u001b[1;33m,\u001b[0m \u001b[1;36m3\u001b[0m\u001b[1;33m,\u001b[0m \u001b[1;36m4\u001b[0m\u001b[1;33m]\u001b[0m\u001b[1;33m,\u001b[0m \u001b[1;33m[\u001b[0m\u001b[1;36m3\u001b[0m\u001b[1;33m,\u001b[0m \u001b[1;36m5\u001b[0m\u001b[1;33m]\u001b[0m\u001b[1;33m]\u001b[0m\u001b[1;33m\u001b[0m\u001b[0m\n\u001b[0m",
      "\u001b[1;31mIndexError\u001b[0m: shape mismatch: indexing arrays could not be broadcast together with shapes (3,) (2,) "
     ]
    }
   ],
   "source": [
    "a[[1, 3, 4], [3, 5]] # 错误，不应该啊，取分散的行列，不是把传两个列表就可以了吗"
   ]
  },
  {
   "cell_type": "code",
   "execution_count": 93,
   "metadata": {},
   "outputs": [
    {
     "ename": "SyntaxError",
     "evalue": "invalid syntax (<ipython-input-93-e81ac5c3e142>, line 1)",
     "output_type": "error",
     "traceback": [
      "\u001b[1;36m  File \u001b[1;32m\"<ipython-input-93-e81ac5c3e142>\"\u001b[1;36m, line \u001b[1;32m1\u001b[0m\n\u001b[1;33m    a[[1, 3, 4], [:, [3, 5]] # 错误\u001b[0m\n\u001b[1;37m                  ^\u001b[0m\n\u001b[1;31mSyntaxError\u001b[0m\u001b[1;31m:\u001b[0m invalid syntax\n"
     ]
    }
   ],
   "source": [
    "a[[1, 3, 4], [:, [3, 5]] # 错误"
   ]
  },
  {
   "cell_type": "code",
   "execution_count": 94,
   "metadata": {},
   "outputs": [
    {
     "ename": "IndexError",
     "evalue": "shape mismatch: indexing arrays could not be broadcast together with shapes (3,) (2,) ",
     "output_type": "error",
     "traceback": [
      "\u001b[1;31m---------------------------------------------------------------------------\u001b[0m",
      "\u001b[1;31mIndexError\u001b[0m                                Traceback (most recent call last)",
      "\u001b[1;32m<ipython-input-94-41c49816b1da>\u001b[0m in \u001b[0;36m<module>\u001b[1;34m()\u001b[0m\n\u001b[1;32m----> 1\u001b[1;33m \u001b[0ma\u001b[0m\u001b[1;33m[\u001b[0m\u001b[1;33m[\u001b[0m\u001b[1;36m1\u001b[0m\u001b[1;33m,\u001b[0m \u001b[1;36m3\u001b[0m\u001b[1;33m,\u001b[0m \u001b[1;36m4\u001b[0m\u001b[1;33m]\u001b[0m\u001b[1;33m,\u001b[0m \u001b[0mlist\u001b[0m\u001b[1;33m(\u001b[0m\u001b[1;33m(\u001b[0m\u001b[1;36m3\u001b[0m\u001b[1;33m,\u001b[0m \u001b[1;36m5\u001b[0m\u001b[1;33m)\u001b[0m\u001b[1;33m)\u001b[0m\u001b[1;33m]\u001b[0m\u001b[1;33m\u001b[0m\u001b[0m\n\u001b[0m",
      "\u001b[1;31mIndexError\u001b[0m: shape mismatch: indexing arrays could not be broadcast together with shapes (3,) (2,) "
     ]
    }
   ],
   "source": [
    "a[[1, 3, 4], list((3, 5))] # 错误"
   ]
  },
  {
   "cell_type": "code",
   "execution_count": null,
   "metadata": {
    "collapsed": true
   },
   "outputs": [],
   "source": []
  }
 ],
 "metadata": {
  "kernelspec": {
   "display_name": "Python 2",
   "language": "python",
   "name": "python2"
  },
  "language_info": {
   "codemirror_mode": {
    "name": "ipython",
    "version": 2
   },
   "file_extension": ".py",
   "mimetype": "text/x-python",
   "name": "python",
   "nbconvert_exporter": "python",
   "pygments_lexer": "ipython2",
   "version": "2.7.13"
  }
 },
 "nbformat": 4,
 "nbformat_minor": 2
}
