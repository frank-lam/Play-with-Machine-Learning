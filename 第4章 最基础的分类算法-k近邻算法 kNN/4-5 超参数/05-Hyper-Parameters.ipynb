{
 "cells": [
  {
   "cell_type": "markdown",
   "metadata": {},
   "source": [
    "## 超参数"
   ]
  },
  {
   "cell_type": "code",
   "execution_count": 1,
   "metadata": {
    "collapsed": true
   },
   "outputs": [],
   "source": [
    "import numpy as np\n",
    "from sklearn import datasets"
   ]
  },
  {
   "cell_type": "code",
   "execution_count": 2,
   "metadata": {
    "collapsed": true
   },
   "outputs": [],
   "source": [
    "digits = datasets.load_digits()\n",
    "X = digits.data\n",
    "y = digits.target"
   ]
  },
  {
   "cell_type": "code",
   "execution_count": 6,
   "metadata": {
    "collapsed": true
   },
   "outputs": [],
   "source": [
    "from sklearn.model_selection import train_test_split\n",
    "\n",
    "X_train, X_test, y_train, y_test = train_test_split(X, y, test_size = 0.2, random_state = 666)"
   ]
  },
  {
   "cell_type": "code",
   "execution_count": 7,
   "metadata": {},
   "outputs": [
    {
     "data": {
      "text/plain": [
       "0.98888888888888893"
      ]
     },
     "execution_count": 7,
     "metadata": {},
     "output_type": "execute_result"
    }
   ],
   "source": [
    "from sklearn.neighbors import KNeighborsClassifier\n",
    "\n",
    "knn_clf = KNeighborsClassifier(n_neighbors = 3)\n",
    "knn_clf.fit(X_train, y_train) # fit作用于训练集\n",
    "knn_clf.score(X_test, y_test) # score作用于测试集"
   ]
  },
  {
   "cell_type": "markdown",
   "metadata": {},
   "source": [
    "超参数和模型参数\n",
    "寻找好的超参数\n",
    "\n",
    "- 领域知识：比如特定医学领域啦\n",
    "- 经验数值：库的默认数值\n",
    "- 实验搜索：默认数值不好时就自己找，因为具体问题\n",
    "\n",
    "不要总觉得自己没有，你要相信自己得到过，得没得到不就是记忆的区别吗，只要记忆足够合理，没有得到也是得到"
   ]
  },
  {
   "cell_type": "markdown",
   "metadata": {},
   "source": [
    "## 寻找最好的k\n",
    "这门课程的目的是为了学习scikit-learn的封装原理"
   ]
  },
  {
   "cell_type": "code",
   "execution_count": 9,
   "metadata": {},
   "outputs": [
    {
     "name": "stdout",
     "output_type": "stream",
     "text": [
      "1\n",
      "2\n",
      "3\n",
      "4\n",
      "5\n",
      "6\n",
      "7\n",
      "8\n",
      "9\n",
      "10\n"
     ]
    }
   ],
   "source": [
    "for k in range(1, 11):\n",
    "    print(k)"
   ]
  },
  {
   "cell_type": "code",
   "execution_count": 12,
   "metadata": {},
   "outputs": [
    {
     "name": "stdout",
     "output_type": "stream",
     "text": [
      "4\n",
      "best_k = 4\n",
      "best_score = 0.991666666667\n"
     ]
    }
   ],
   "source": [
    "best_score = 0.0\n",
    "best_k = -1\n",
    "for k in range(1, 11):\n",
    "    # 因为超参数是模型开始前送入的，所以每次都要实例化类\n",
    "    knn_clf = KNeighborsClassifier(n_neighbors = k)\n",
    "    knn_clf.fit(X_train, y_train)\n",
    "    score = knn_clf.score(X_test, y_test)\n",
    "    if score > best_score:\n",
    "        best_score = score\n",
    "        best_k = k\n",
    "print(best_k)\n",
    "print(\"best_k =\", best_k)\n",
    "print(\"best_score =\", best_score)"
   ]
  },
  {
   "cell_type": "markdown",
   "metadata": {},
   "source": [
    "## KNN中有很多超参数，而不是只有n_neighbors，因为没考虑一些因素"
   ]
  },
  {
   "cell_type": "markdown",
   "metadata": {},
   "source": [
    "![](https://i.loli.net/2018/02/02/5a746a712a3cb.png)"
   ]
  },
  {
   "cell_type": "markdown",
   "metadata": {},
   "source": [
    "## weights底层实现这里就不做了\n",
    "## 考虑距离？不考虑距离？也就是weights啦"
   ]
  },
  {
   "cell_type": "code",
   "execution_count": 14,
   "metadata": {},
   "outputs": [
    {
     "name": "stdout",
     "output_type": "stream",
     "text": [
      "4\n",
      "best_k = 4\n",
      "best_score = 0.991666666667\n",
      "best_method = distance\n"
     ]
    }
   ],
   "source": [
    "# 每多一个超参数就加到最前面\n",
    "best_method = \"\"\n",
    "best_score = 0.0\n",
    "best_k = -1\n",
    "for method in [\"uniform\", \"distance\"]:\n",
    "    for k in range(1, 11):\n",
    "        # 因为超参数是模型开始前送入的，所以每次都要实例化类\n",
    "        knn_clf = KNeighborsClassifier(n_neighbors = k, weights = method)\n",
    "        knn_clf.fit(X_train, y_train)\n",
    "        score = knn_clf.score(X_test, y_test)\n",
    "        if score > best_score: # 准确度\n",
    "            best_k = k\n",
    "            best_score = score\n",
    "            # best_k = k\n",
    "            best_method = method\n",
    "print(best_k)\n",
    "print(\"best_k =\", best_k)\n",
    "print(\"best_score =\", best_score)\n",
    "print(\"best_method =\", method)"
   ]
  },
  {
   "cell_type": "markdown",
   "metadata": {},
   "source": [
    "## 更多的关于距离的定义"
   ]
  },
  {
   "cell_type": "markdown",
   "metadata": {},
   "source": [
    "## 欧拉距离"
   ]
  },
  {
   "cell_type": "markdown",
   "metadata": {},
   "source": [
    "## 曼哈顿距离\n",
    "![](https://i.loli.net/2018/02/02/5a746ca6b8ca9.png)"
   ]
  },
  {
   "cell_type": "markdown",
   "metadata": {},
   "source": [
    "## 距离\n",
    "![](https://i.loli.net/2018/02/02/5a746cf6b1995.png)"
   ]
  },
  {
   "cell_type": "markdown",
   "metadata": {},
   "source": [
    "## 数学一致性\n",
    "![](https://i.loli.net/2018/02/02/5a746d2d7e8b6.png)\n",
    "![](https://i.loli.net/2018/02/02/5a746d56b425d.png)"
   ]
  },
  {
   "cell_type": "markdown",
   "metadata": {},
   "source": [
    "## 搜索明可夫斯基距离相应的p"
   ]
  },
  {
   "cell_type": "code",
   "execution_count": 16,
   "metadata": {},
   "outputs": [
    {
     "name": "stdout",
     "output_type": "stream",
     "text": [
      "5\n",
      "best_k = 5\n",
      "best_score = 0.988888888889\n",
      "best_p = -1\n",
      "Wall time: 42.1 s\n"
     ]
    }
   ],
   "source": [
    "%%time\n",
    "\n",
    "# 每多一个超参数就加到最前面\n",
    "# best_method = \"\"\n",
    "best_p = -1\n",
    "best_score = 0.0\n",
    "best_k = -1\n",
    "# for method in [\"uniform\", \"distance\"]:\n",
    "for p in range(1, 6):\n",
    "    for k in range(1, 11):\n",
    "        # 因为超参数是模型开始前送入的，所以每次都要实例化类\n",
    "        knn_clf = KNeighborsClassifier(n_neighbors = k, weights = \"distance\", p = p)\n",
    "        knn_clf.fit(X_train, y_train)\n",
    "        score = knn_clf.score(X_test, y_test)\n",
    "        if score > best_score: # 准确度\n",
    "            best_k = k\n",
    "            best_score = score\n",
    "            # best_k = k\n",
    "            best_method = method\n",
    "print(best_k)\n",
    "print(\"best_k =\", best_k)\n",
    "print(\"best_score =\", best_score)\n",
    "# print(\"best_method =\", method)\n",
    "print(\"best_p =\", best_p)"
   ]
  },
  {
   "cell_type": "code",
   "execution_count": null,
   "metadata": {
    "collapsed": true
   },
   "outputs": [],
   "source": []
  }
 ],
 "metadata": {
  "kernelspec": {
   "display_name": "Python 3",
   "language": "python",
   "name": "python3"
  },
  "language_info": {
   "codemirror_mode": {
    "name": "ipython",
    "version": 3
   },
   "file_extension": ".py",
   "mimetype": "text/x-python",
   "name": "python",
   "nbconvert_exporter": "python",
   "pygments_lexer": "ipython3",
   "version": "3.6.2"
  }
 },
 "nbformat": 4,
 "nbformat_minor": 2
}
