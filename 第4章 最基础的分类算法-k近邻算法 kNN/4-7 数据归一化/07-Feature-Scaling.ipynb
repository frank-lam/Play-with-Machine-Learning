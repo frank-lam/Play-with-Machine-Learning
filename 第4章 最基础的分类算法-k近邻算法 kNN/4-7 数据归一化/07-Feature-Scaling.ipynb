{
 "cells": [
  {
   "cell_type": "markdown",
   "metadata": {},
   "source": [
    "## 数据归一化\n",
    "解决方案：将所有的数据映射到同一尺度  \n",
    "最值归一化 Normalization：把所有数据映射到0-1之间，其实就是比例法  \n",
    "Xscale=(x-xmin)/(xmax-xmin)  \n",
    "适用于分布有明显边界的情况；受outlier影响较大：比如收入受异常点影响较大  \n",
    "\n",
    "除非是考试分数和图像像素值分布，否则都使用均值方差归一化standardization   \n",
    "数值分布没有明显的边界：有可能存在极端数据值  \n",
    "均值方差归一化：把所有数据归一到均值为0方差为1的分布中  \n",
    "Xscale=(x-xmean)/S    \n",
    "方差为1什么意思？有什么直观的解释？  \n",
    "为什么要把整数矩阵化为浮点数？归一化之后不是就是浮点数了吗？/ 为什么要让样本数据矩阵是float类型？\n",
    "因为最值归一化是将所有的值归一化到[0,1]之间，所以是float类型，所以原始的矩阵元素也应该是float类型，所以把矩阵强制类型转换一下，否则待会归一化都变成0/1。"
   ]
  },
  {
   "cell_type": "code",
   "execution_count": 3,
   "metadata": {
    "collapsed": true
   },
   "outputs": [],
   "source": [
    "import numpy as np\n",
    "import matplotlib.pyplot as plt"
   ]
  },
  {
   "cell_type": "markdown",
   "metadata": {},
   "source": [
    "##  最值归一化Normalization"
   ]
  },
  {
   "cell_type": "code",
   "execution_count": 4,
   "metadata": {
    "collapsed": true
   },
   "outputs": [],
   "source": [
    "x = np.random.randint(0, 100, 100)\n",
    "# 写成更人性化的形式\n",
    "x = np.random.randint(0, 100, size=100)"
   ]
  },
  {
   "cell_type": "code",
   "execution_count": 5,
   "metadata": {},
   "outputs": [
    {
     "name": "stdout",
     "output_type": "stream",
     "text": [
      "[24 98 50 19 80 82 12 68 36 71 36 65 35 42 31 83 69 80 88 81 60 80  4 70 82\n",
      " 73 42 81 42 80 62 92 16 76 11 48 26 45 38 48 28 90 26 65 35 39 43 37  4 12\n",
      "  2 91 19 58 36 69 65 60 62 42 37 93  7 33  2 24 63 86 31 42 59 57  7 97 86\n",
      " 29 39 44 60 82 17 89 60 90  2 48 37  9 51 69 48 92 43 86 52 50 12  6 80  5]\n"
     ]
    }
   ],
   "source": [
    "print(x) # 只会打印数据本身的组织形式"
   ]
  },
  {
   "cell_type": "code",
   "execution_count": 6,
   "metadata": {},
   "outputs": [
    {
     "data": {
      "text/plain": [
       "array([24, 98, 50, 19, 80, 82, 12, 68, 36, 71, 36, 65, 35, 42, 31, 83, 69,\n",
       "       80, 88, 81, 60, 80,  4, 70, 82, 73, 42, 81, 42, 80, 62, 92, 16, 76,\n",
       "       11, 48, 26, 45, 38, 48, 28, 90, 26, 65, 35, 39, 43, 37,  4, 12,  2,\n",
       "       91, 19, 58, 36, 69, 65, 60, 62, 42, 37, 93,  7, 33,  2, 24, 63, 86,\n",
       "       31, 42, 59, 57,  7, 97, 86, 29, 39, 44, 60, 82, 17, 89, 60, 90,  2,\n",
       "       48, 37,  9, 51, 69, 48, 92, 43, 86, 52, 50, 12,  6, 80,  5])"
      ]
     },
     "execution_count": 6,
     "metadata": {},
     "output_type": "execute_result"
    }
   ],
   "source": [
    "x # 单独的变量会把数据类型显示出来"
   ]
  },
  {
   "cell_type": "code",
   "execution_count": 7,
   "metadata": {},
   "outputs": [
    {
     "name": "stdout",
     "output_type": "stream",
     "text": [
      "Help on built-in function randint:\n",
      "\n",
      "randint(...) method of mtrand.RandomState instance\n",
      "    randint(low, high=None, size=None, dtype='l')\n",
      "    \n",
      "    Return random integers from `low` (inclusive) to `high` (exclusive).\n",
      "    \n",
      "    Return random integers from the \"discrete uniform\" distribution of\n",
      "    the specified dtype in the \"half-open\" interval [`low`, `high`). If\n",
      "    `high` is None (the default), then results are from [0, `low`).\n",
      "    \n",
      "    Parameters\n",
      "    ----------\n",
      "    low : int\n",
      "        Lowest (signed) integer to be drawn from the distribution (unless\n",
      "        ``high=None``, in which case this parameter is one above the\n",
      "        *highest* such integer).\n",
      "    high : int, optional\n",
      "        If provided, one above the largest (signed) integer to be drawn\n",
      "        from the distribution (see above for behavior if ``high=None``).\n",
      "    size : int or tuple of ints, optional\n",
      "        Output shape.  If the given shape is, e.g., ``(m, n, k)``, then\n",
      "        ``m * n * k`` samples are drawn.  Default is None, in which case a\n",
      "        single value is returned.\n",
      "    dtype : dtype, optional\n",
      "        Desired dtype of the result. All dtypes are determined by their\n",
      "        name, i.e., 'int64', 'int', etc, so byteorder is not available\n",
      "        and a specific precision may have different C types depending\n",
      "        on the platform. The default value is 'np.int'.\n",
      "    \n",
      "        .. versionadded:: 1.11.0\n",
      "    \n",
      "    Returns\n",
      "    -------\n",
      "    out : int or ndarray of ints\n",
      "        `size`-shaped array of random integers from the appropriate\n",
      "        distribution, or a single such random int if `size` not provided.\n",
      "    \n",
      "    See Also\n",
      "    --------\n",
      "    random.random_integers : similar to `randint`, only for the closed\n",
      "        interval [`low`, `high`], and 1 is the lowest value if `high` is\n",
      "        omitted. In particular, this other one is the one to use to generate\n",
      "        uniformly distributed discrete non-integers.\n",
      "    \n",
      "    Examples\n",
      "    --------\n",
      "    >>> np.random.randint(2, size=10)\n",
      "    array([1, 0, 0, 0, 1, 1, 0, 0, 1, 0])\n",
      "    >>> np.random.randint(1, size=10)\n",
      "    array([0, 0, 0, 0, 0, 0, 0, 0, 0, 0])\n",
      "    \n",
      "    Generate a 2 x 4 array of ints between 0 and 4, inclusive:\n",
      "    \n",
      "    >>> np.random.randint(5, size=(2, 4))\n",
      "    array([[4, 0, 2, 1],\n",
      "           [3, 2, 2, 0]])\n",
      "\n"
     ]
    }
   ],
   "source": [
    "help(np.random.randint)"
   ]
  },
  {
   "cell_type": "code",
   "execution_count": 8,
   "metadata": {},
   "outputs": [
    {
     "data": {
      "text/plain": [
       "array([ 0.22916667,  1.        ,  0.5       ,  0.17708333,  0.8125    ,\n",
       "        0.83333333,  0.10416667,  0.6875    ,  0.35416667,  0.71875   ,\n",
       "        0.35416667,  0.65625   ,  0.34375   ,  0.41666667,  0.30208333,\n",
       "        0.84375   ,  0.69791667,  0.8125    ,  0.89583333,  0.82291667,\n",
       "        0.60416667,  0.8125    ,  0.02083333,  0.70833333,  0.83333333,\n",
       "        0.73958333,  0.41666667,  0.82291667,  0.41666667,  0.8125    ,\n",
       "        0.625     ,  0.9375    ,  0.14583333,  0.77083333,  0.09375   ,\n",
       "        0.47916667,  0.25      ,  0.44791667,  0.375     ,  0.47916667,\n",
       "        0.27083333,  0.91666667,  0.25      ,  0.65625   ,  0.34375   ,\n",
       "        0.38541667,  0.42708333,  0.36458333,  0.02083333,  0.10416667,\n",
       "        0.        ,  0.92708333,  0.17708333,  0.58333333,  0.35416667,\n",
       "        0.69791667,  0.65625   ,  0.60416667,  0.625     ,  0.41666667,\n",
       "        0.36458333,  0.94791667,  0.05208333,  0.32291667,  0.        ,\n",
       "        0.22916667,  0.63541667,  0.875     ,  0.30208333,  0.41666667,\n",
       "        0.59375   ,  0.57291667,  0.05208333,  0.98958333,  0.875     ,\n",
       "        0.28125   ,  0.38541667,  0.4375    ,  0.60416667,  0.83333333,\n",
       "        0.15625   ,  0.90625   ,  0.60416667,  0.91666667,  0.        ,\n",
       "        0.47916667,  0.36458333,  0.07291667,  0.51041667,  0.69791667,\n",
       "        0.47916667,  0.9375    ,  0.42708333,  0.875     ,  0.52083333,\n",
       "        0.5       ,  0.10416667,  0.04166667,  0.8125    ,  0.03125   ])"
      ]
     },
     "execution_count": 8,
     "metadata": {},
     "output_type": "execute_result"
    }
   ],
   "source": [
    "(x-np.min(x)) / (np.max(x)-np.min(x)) # 对于矩阵也是可以的"
   ]
  },
  {
   "cell_type": "code",
   "execution_count": 44,
   "metadata": {
    "collapsed": true
   },
   "outputs": [],
   "source": [
    "# 产生一个随机数据集\n",
    "X = np.random.randint(0, 100, (50, 2))\n",
    "# np存储的矩阵只能是一种数据类型"
   ]
  },
  {
   "cell_type": "code",
   "execution_count": 46,
   "metadata": {},
   "outputs": [],
   "source": [
    "X = np.array(X, dtype=float)"
   ]
  },
  {
   "cell_type": "code",
   "execution_count": 47,
   "metadata": {},
   "outputs": [
    {
     "data": {
      "text/plain": [
       "array([[ 18.,  99.],\n",
       "       [ 61.,  65.],\n",
       "       [ 63.,  62.],\n",
       "       [ 16.,  19.],\n",
       "       [ 45.,  20.],\n",
       "       [ 41.,  14.],\n",
       "       [ 20.,  64.],\n",
       "       [  5.,  66.],\n",
       "       [ 10.,   7.],\n",
       "       [ 13.,  67.]])"
      ]
     },
     "execution_count": 47,
     "metadata": {},
     "output_type": "execute_result"
    }
   ],
   "source": [
    "X[:10, :] # 取出前10个样本点，索引从0开始的"
   ]
  },
  {
   "cell_type": "code",
   "execution_count": 48,
   "metadata": {
    "collapsed": true
   },
   "outputs": [],
   "source": [
    "X[:,0] = (X[:,0] - np.min(X[:,0])) / (np.max(X[:,0])-np.min(X[:,0])) # 最大最小归一化"
   ]
  },
  {
   "cell_type": "code",
   "execution_count": 49,
   "metadata": {
    "collapsed": true
   },
   "outputs": [],
   "source": [
    "X[:,1] = (X[:,1] - np.min(X[:,1])) / (np.max(X[:,1])-np.min(X[:,1])) # 最大最小归一化"
   ]
  },
  {
   "cell_type": "code",
   "execution_count": 50,
   "metadata": {},
   "outputs": [
    {
     "data": {
      "text/plain": [
       "array([[ 0.18556701,  1.        ],\n",
       "       [ 0.62886598,  0.65656566],\n",
       "       [ 0.64948454,  0.62626263],\n",
       "       [ 0.16494845,  0.19191919],\n",
       "       [ 0.46391753,  0.2020202 ],\n",
       "       [ 0.42268041,  0.14141414],\n",
       "       [ 0.20618557,  0.64646465],\n",
       "       [ 0.05154639,  0.66666667],\n",
       "       [ 0.10309278,  0.07070707],\n",
       "       [ 0.13402062,  0.67676768]])"
      ]
     },
     "execution_count": 50,
     "metadata": {},
     "output_type": "execute_result"
    }
   ],
   "source": [
    "X[:10,:]"
   ]
  },
  {
   "cell_type": "code",
   "execution_count": 14,
   "metadata": {
    "collapsed": true
   },
   "outputs": [],
   "source": [
    "X = np.array(X, dtype=float)"
   ]
  },
  {
   "cell_type": "code",
   "execution_count": 15,
   "metadata": {},
   "outputs": [
    {
     "data": {
      "text/plain": [
       "array([[ 0.,  0.],\n",
       "       [ 0.,  0.],\n",
       "       [ 0.,  0.],\n",
       "       [ 0.,  0.],\n",
       "       [ 0.,  0.],\n",
       "       [ 1.,  0.],\n",
       "       [ 0.,  0.],\n",
       "       [ 0.,  0.],\n",
       "       [ 0.,  0.],\n",
       "       [ 0.,  0.]])"
      ]
     },
     "execution_count": 15,
     "metadata": {},
     "output_type": "execute_result"
    }
   ],
   "source": [
    "X[:10,:]"
   ]
  },
  {
   "cell_type": "code",
   "execution_count": 16,
   "metadata": {
    "collapsed": true
   },
   "outputs": [],
   "source": [
    "X[:,0] = (X[:,0] - np.min(X[:,0])) / (np.max(X[:,0])-np.min(X[:,0]))"
   ]
  },
  {
   "cell_type": "code",
   "execution_count": 17,
   "metadata": {
    "collapsed": true
   },
   "outputs": [],
   "source": [
    "X[:,1] = (X[:,1] - np.min(X[:,1])) / (np.max(X[:,1])-np.min(X[:,1]))"
   ]
  },
  {
   "cell_type": "code",
   "execution_count": 18,
   "metadata": {},
   "outputs": [
    {
     "data": {
      "text/plain": [
       "array([[ 0.,  0.],\n",
       "       [ 0.,  0.],\n",
       "       [ 0.,  0.],\n",
       "       [ 0.,  0.],\n",
       "       [ 0.,  0.],\n",
       "       [ 1.,  0.],\n",
       "       [ 0.,  0.],\n",
       "       [ 0.,  0.],\n",
       "       [ 0.,  0.],\n",
       "       [ 0.,  0.]])"
      ]
     },
     "execution_count": 18,
     "metadata": {},
     "output_type": "execute_result"
    }
   ],
   "source": [
    "X[:10,:]"
   ]
  },
  {
   "cell_type": "code",
   "execution_count": 51,
   "metadata": {},
   "outputs": [
    {
     "data": {
      "image/png": "[encoded data removed]",
      "text/plain": [
       "<matplotlib.figure.Figure at 0x1c8ce2cc780>"
      ]
     },
     "metadata": {},
     "output_type": "display_data"
    }
   ],
   "source": [
    "# 绘制点状样本图\n",
    "plt.scatter(X[:,0], X[:,1])\n",
    "plt.show()"
   ]
  },
  {
   "cell_type": "code",
   "execution_count": 20,
   "metadata": {},
   "outputs": [
    {
     "data": {
      "text/plain": [
       "0.040000000000000001"
      ]
     },
     "execution_count": 20,
     "metadata": {},
     "output_type": "execute_result"
    }
   ],
   "source": [
    "np.mean(X[:,0])"
   ]
  },
  {
   "cell_type": "code",
   "execution_count": 21,
   "metadata": {},
   "outputs": [
    {
     "data": {
      "text/plain": [
       "0.19595917942265428"
      ]
     },
     "execution_count": 21,
     "metadata": {},
     "output_type": "execute_result"
    }
   ],
   "source": [
    "np.std(X[:,0])"
   ]
  },
  {
   "cell_type": "code",
   "execution_count": 22,
   "metadata": {},
   "outputs": [
    {
     "data": {
      "text/plain": [
       "0.029999999999999999"
      ]
     },
     "execution_count": 22,
     "metadata": {},
     "output_type": "execute_result"
    }
   ],
   "source": [
    "np.mean(X[:,])"
   ]
  },
  {
   "cell_type": "code",
   "execution_count": 23,
   "metadata": {},
   "outputs": [
    {
     "data": {
      "text/plain": [
       "0.19595917942265428"
      ]
     },
     "execution_count": 23,
     "metadata": {},
     "output_type": "execute_result"
    }
   ],
   "source": [
    "np.std(X[:,0])"
   ]
  },
  {
   "cell_type": "markdown",
   "metadata": {},
   "source": [
    "## 均值方差归一化 Standardization"
   ]
  },
  {
   "cell_type": "code",
   "execution_count": 24,
   "metadata": {},
   "outputs": [],
   "source": [
    "X2 = np.random.randint(0, 100, size=(50, 2))"
   ]
  },
  {
   "cell_type": "code",
   "execution_count": 25,
   "metadata": {
    "collapsed": true
   },
   "outputs": [],
   "source": [
    "X2 = np.array(X2, dtype=float)"
   ]
  },
  {
   "cell_type": "code",
   "execution_count": 26,
   "metadata": {},
   "outputs": [
    {
     "data": {
      "text/plain": [
       "array([[ 1.08902051, -0.74997636],\n",
       "       [ 1.0555842 ,  0.42029437],\n",
       "       [ 1.08902051, -1.51901141],\n",
       "       [ 1.5571288 , -1.61932033],\n",
       "       [ 1.08902051, -0.24843176],\n",
       "       [ 1.65743772, -1.18464835],\n",
       "       [ 0.11936761, -1.31839357],\n",
       "       [ 1.49025619, -0.78341267],\n",
       "       [ 1.25620204,  1.25620204],\n",
       "       [-1.4521388 , -0.08125023],\n",
       "       [-0.71654005,  0.75465744],\n",
       "       [-0.4490496 ,  0.75465744],\n",
       "       [-0.38217699, -1.01746681],\n",
       "       [ 0.48716699,  0.01905869],\n",
       "       [ 0.08593131, -1.21808465],\n",
       "       [ 1.49025619, -1.51901141],\n",
       "       [-0.98403051, -0.31530437],\n",
       "       [ 0.72122114, -1.38526619],\n",
       "       [-0.9505942 ,  1.59056511],\n",
       "       [ 1.12245682,  0.28654915],\n",
       "       [-1.58588403, -0.9505942 ],\n",
       "       [-1.4521388 ,  1.18932943],\n",
       "       [ 0.78809375,  0.42029437],\n",
       "       [-1.11777573,  0.01905869],\n",
       "       [ 0.98871159, -1.11777573],\n",
       "       [ 0.88840267,  1.08902051],\n",
       "       [-0.01437761,  0.01905869],\n",
       "       [ 1.35651096, -1.01746681],\n",
       "       [-0.74997636,  0.21967653],\n",
       "       [ 0.25311284,  0.38685807],\n",
       "       [ 0.38685807,  1.15589312],\n",
       "       [ 0.95527528,  1.15589312],\n",
       "       [-0.04781392, -0.91715789],\n",
       "       [-0.81684897,  1.0555842 ],\n",
       "       [ 0.21967653, -1.48557511],\n",
       "       [ 0.85496636,  1.35651096],\n",
       "       [-0.91715789, -1.11777573],\n",
       "       [ 0.68778483,  0.68778483],\n",
       "       [-0.4490496 ,  1.12245682],\n",
       "       [ 1.38994727, -0.51592221],\n",
       "       [-1.51901141,  1.62400142],\n",
       "       [ 0.85496636, -0.51592221],\n",
       "       [ 1.15589312,  1.15589312],\n",
       "       [-0.91715789,  1.08902051],\n",
       "       [-0.88372159, -0.88372159],\n",
       "       [ 0.08593131, -1.01746681],\n",
       "       [-0.51592221, -1.31839357],\n",
       "       [-1.11777573, -0.24843176],\n",
       "       [-0.91715789,  0.42029437],\n",
       "       [-0.78341267, -1.61932033]])"
      ]
     },
     "execution_count": 26,
     "metadata": {},
     "output_type": "execute_result"
    }
   ],
   "source": [
    "# 现在开始计算样本矩阵均值方差归一化\n",
    "(X2-np.mean(X2)) / np.std(X2) # 注意这里是除以标准差"
   ]
  },
  {
   "cell_type": "code",
   "execution_count": 28,
   "metadata": {},
   "outputs": [],
   "source": [
    "# 可以啊，可以对矩阵做数据归一化操作啊，不对吧\n",
    "(X2[:, 0]-np.mean(X2[:, 0])) / np.std(X2[:, 0])\n",
    "X2[:, 0] = (X2[:, 0]-np.mean(X2[:, 0])) / np.std(X2[:, 0])"
   ]
  },
  {
   "cell_type": "code",
   "execution_count": 29,
   "metadata": {
    "collapsed": true
   },
   "outputs": [],
   "source": [
    "X2[:, 1] = (X2[:, 1]-np.mean(X2[:, 1])) / np.std(X2[:, 1])"
   ]
  },
  {
   "cell_type": "code",
   "execution_count": 37,
   "metadata": {},
   "outputs": [
    {
     "data": {
      "text/plain": [
       "array([[ 0.98443859, -0.61654342],\n",
       "       [ 0.95016148,  0.54486775],\n",
       "       [ 0.98443859, -1.37975647],\n",
       "       [ 1.46431812, -1.479306  ],\n",
       "       [ 0.98443859, -0.11879577],\n",
       "       [ 1.56714945, -1.04792471],\n",
       "       [-0.00959759, -1.18065741],\n",
       "       [ 1.39576391, -0.64972659],\n",
       "       [ 1.15582414,  1.37444716],\n",
       "       [-1.62062174,  0.04712011]])"
      ]
     },
     "execution_count": 37,
     "metadata": {},
     "output_type": "execute_result"
    }
   ],
   "source": [
    "X2[:10, :]"
   ]
  },
  {
   "cell_type": "code",
   "execution_count": 38,
   "metadata": {},
   "outputs": [
    {
     "data": {
      "text/plain": [
       "-6.8833827526759705e-17"
      ]
     },
     "execution_count": 38,
     "metadata": {},
     "output_type": "execute_result"
    }
   ],
   "source": [
    "np.mean(X2[:,0])"
   ]
  },
  {
   "cell_type": "code",
   "execution_count": 39,
   "metadata": {},
   "outputs": [
    {
     "data": {
      "text/plain": [
       "1.0"
      ]
     },
     "execution_count": 39,
     "metadata": {},
     "output_type": "execute_result"
    }
   ],
   "source": [
    "np.std(X2[:,0])"
   ]
  },
  {
   "cell_type": "code",
   "execution_count": 40,
   "metadata": {},
   "outputs": [
    {
     "data": {
      "text/plain": [
       "-6.8833827526759705e-17"
      ]
     },
     "execution_count": 40,
     "metadata": {},
     "output_type": "execute_result"
    }
   ],
   "source": [
    "np.mean(X2[:,0])"
   ]
  },
  {
   "cell_type": "code",
   "execution_count": 41,
   "metadata": {},
   "outputs": [
    {
     "data": {
      "text/plain": [
       "1.0"
      ]
     },
     "execution_count": 41,
     "metadata": {},
     "output_type": "execute_result"
    }
   ],
   "source": [
    "np.std(X2[:,0])"
   ]
  },
  {
   "cell_type": "code",
   "execution_count": 31,
   "metadata": {},
   "outputs": [
    {
     "data": {
      "image/png": "[encoded data removed]",
      "text/plain": [
       "<matplotlib.figure.Figure at 0x1c8ce261630>"
      ]
     },
     "metadata": {},
     "output_type": "display_data"
    }
   ],
   "source": [
    "plt.scatter(X2[:, 0], X2[:, 1])\n",
    "plt.show()"
   ]
  },
  {
   "cell_type": "code",
   "execution_count": null,
   "metadata": {
    "collapsed": true
   },
   "outputs": [],
   "source": []
  }
 ],
 "metadata": {
  "kernelspec": {
   "display_name": "Python 3",
   "language": "python",
   "name": "python3"
  },
  "language_info": {
   "codemirror_mode": {
    "name": "ipython",
    "version": 3
   },
   "file_extension": ".py",
   "mimetype": "text/x-python",
   "name": "python",
   "nbconvert_exporter": "python",
   "pygments_lexer": "ipython3",
   "version": "3.6.2"
  }
 },
 "nbformat": 4,
 "nbformat_minor": 2
}
