{
 "cells": [
  {
   "cell_type": "markdown",
   "metadata": {},
   "source": [
    "## 在线性回归训练得到的模型中使用梯度下降法"
   ]
  },
  {
   "cell_type": "code",
   "execution_count": 1,
   "metadata": {
    "collapsed": true
   },
   "outputs": [],
   "source": [
    "import numpy as np\n",
    "import matplotlib.pyplot as plt"
   ]
  },
  {
   "cell_type": "code",
   "execution_count": 2,
   "metadata": {},
   "outputs": [],
   "source": [
    "np.random.seed = 666 # 随机生成的\n",
    "X = 2 * np.random.random(size=100)  # [0.0, 1.0)\n",
    "# https://docs.scipy.org/doc/numpy/reference/generated/numpy.random.random.html\n",
    "# (b - a) * random_sample() + a\n",
    "# x\n",
    "# print(x)\n",
    "y = X * 3. + 4. + np.random.normal(size=100) # 正态分布随机数序列\n",
    "# 我们可以从每一行的角度来看，一行代表一个样本\n",
    "# 我想起了了前面是一节是只有一个theta值，而我们也没有考虑所谓的y值\n",
    "# 什么意思，前面是 plot_y = (plot_x - 2.5)**2-1\n",
    "# 这里X是矩阵，我们的theta是一个一维向量，y=θ^T.dot(x)，这里x是列向量（特征向量），但是y始终是一个样本对应一个输出"
   ]
  },
  {
   "cell_type": "code",
   "execution_count": 3,
   "metadata": {},
   "outputs": [
    {
     "data": {
      "text/plain": [
       "(100,)"
      ]
     },
     "execution_count": 3,
     "metadata": {},
     "output_type": "execute_result"
    }
   ],
   "source": [
    "X.shape # .shape本来就是np.array的成员函数吧"
   ]
  },
  {
   "cell_type": "code",
   "execution_count": 4,
   "metadata": {},
   "outputs": [
    {
     "data": {
      "text/plain": [
       "0.065658554913232248"
      ]
     },
     "execution_count": 4,
     "metadata": {},
     "output_type": "execute_result"
    }
   ],
   "source": [
    "X[0]"
   ]
  },
  {
   "cell_type": "code",
   "execution_count": 5,
   "metadata": {},
   "outputs": [
    {
     "data": {
      "text/plain": [
       "array([ 1.03171162,  0.11997164,  1.38536269,  1.04419027,  0.48859994,\n",
       "        0.97016069,  1.91525569,  1.72030434,  0.121976  ,  0.23089124,\n",
       "        0.89849699,  0.16837972,  1.21036076,  1.97247123,  1.61539519,\n",
       "        0.18632959,  1.68872122,  0.34254166,  1.17868033,  1.1230032 ,\n",
       "        0.65064245,  0.80993245,  1.89270864,  0.71147432,  0.84914196,\n",
       "        1.69903631,  1.83366523,  1.2945973 ,  0.12115091,  0.82663288,\n",
       "        1.33970794,  1.90225472,  1.60301923,  1.48276511,  0.89225251,\n",
       "        1.85887373,  1.70835777,  0.82327384,  1.3794992 ,  1.2604542 ,\n",
       "        0.17497545,  1.85937345,  1.54877113,  0.53278679,  0.64962287,\n",
       "        0.27388598,  0.34002861,  1.25577867,  0.85193397,  1.71178782,\n",
       "        1.44611443,  0.69796748,  0.10845758,  1.54176985,  1.57647435,\n",
       "        0.85795711,  0.45811275,  0.89461802,  0.92475737,  0.05140745,\n",
       "        1.00249972,  1.41172571,  1.98430874,  1.649405  ,  0.74466021,\n",
       "        0.66605341,  1.46194451,  1.87452375,  0.86584221,  1.09600253,\n",
       "        0.6423016 ,  1.44903346,  0.39216883,  0.97821678,  1.1692479 ,\n",
       "        0.64729369,  0.40381377,  1.00091483,  1.66906752,  0.26205115,\n",
       "        0.58824824,  1.36591041,  1.76353669,  1.17411954,  1.67545699,\n",
       "        1.91192613,  1.22729146,  1.84047661,  0.06060957,  0.11292319,\n",
       "        1.67454868,  0.37436719,  0.57114683,  0.30432211,  1.94243547,\n",
       "        1.75462493,  0.08636323,  0.4130971 ,  1.26996824])"
      ]
     },
     "execution_count": 5,
     "metadata": {},
     "output_type": "execute_result"
    }
   ],
   "source": [
    "X[1:]"
   ]
  },
  {
   "cell_type": "code",
   "execution_count": 6,
   "metadata": {
    "collapsed": true
   },
   "outputs": [],
   "source": [
    "X = X.reshape(-1, 1) # 得到了矩阵，1列，否则的话就是向量了，而向量是没有"
   ]
  },
  {
   "cell_type": "code",
   "execution_count": 7,
   "metadata": {},
   "outputs": [
    {
     "data": {
      "text/plain": [
       "(100, 1)"
      ]
     },
     "execution_count": 7,
     "metadata": {},
     "output_type": "execute_result"
    }
   ],
   "source": [
    "X.shape"
   ]
  },
  {
   "cell_type": "code",
   "execution_count": 8,
   "metadata": {},
   "outputs": [
    {
     "data": {
      "text/plain": [
       "array([ 0.06565855])"
      ]
     },
     "execution_count": 8,
     "metadata": {},
     "output_type": "execute_result"
    }
   ],
   "source": [
    "X[0]"
   ]
  },
  {
   "cell_type": "code",
   "execution_count": 9,
   "metadata": {
    "collapsed": true
   },
   "outputs": [],
   "source": [
    "X = np.array(X)"
   ]
  },
  {
   "cell_type": "code",
   "execution_count": 10,
   "metadata": {},
   "outputs": [
    {
     "data": {
      "text/plain": [
       "(100,)"
      ]
     },
     "execution_count": 10,
     "metadata": {},
     "output_type": "execute_result"
    }
   ],
   "source": [
    "y.shape # 标记：一维数组"
   ]
  },
  {
   "cell_type": "code",
   "execution_count": 11,
   "metadata": {},
   "outputs": [
    {
     "data": {
      "image/png": "[encoded data removed]",
      "text/plain": [
       "<matplotlib.figure.Figure at 0x1a45cfc58d0>"
      ]
     },
     "metadata": {},
     "output_type": "display_data"
    }
   ],
   "source": [
    "plt.scatter(X, y) # plt.plot() 是用于连线的\n",
    "# plt.plot(X, y) # 曲折的连线啊\n",
    "plt.show()"
   ]
  },
  {
   "cell_type": "markdown",
   "metadata": {},
   "source": [
    "## 使用梯度下降法训练\n",
    "![](https://i.loli.net/2018/02/11/5a80434a31e36.png)"
   ]
  },
  {
   "cell_type": "code",
   "execution_count": 12,
   "metadata": {},
   "outputs": [
    {
     "data": {
      "text/plain": [
       "(10,)"
      ]
     },
     "execution_count": 12,
     "metadata": {},
     "output_type": "execute_result"
    }
   ],
   "source": [
    "# theta我们怎么求到的？\n",
    "np.zeros(10).shape # 其实是1维数组，没有行列之分"
   ]
  },
  {
   "cell_type": "code",
   "execution_count": 13,
   "metadata": {
    "collapsed": true
   },
   "outputs": [],
   "source": [
    "# theta是有一个初值，然后又一个梯度下降方向的变化值，然后得到新的theta值，直到极值\n",
    "def J(theta, X_b, y): # y是实际值，X_b.dot(theta)得到的是线性回归模型的值\n",
    "    try:\n",
    "        return np.sum((y - X_b.dot(theta))**2) / len(X_b)\n",
    "    except OverflowError:\n",
    "        return float('inf')"
   ]
  },
  {
   "cell_type": "code",
   "execution_count": 14,
   "metadata": {
    "collapsed": true
   },
   "outputs": [],
   "source": [
    "# 对J求梯度，就是gradient了\n",
    "def dJ(theta, X_b, y): # 为什么之前不要X_b和y呢，因为之前就没有模型啊，现在的话每一步都依赖特征啊\n",
    "    res = np.empty(len(theta)) # 开辟空间\n",
    "    res[0] = np.sum(X_b.dot(theta)-y) # 对每一个样本而言，np.sum对每一个样本行求和\n",
    "    # for i in range(len(y)):\n",
    "    for i in range(1, len(theta)):\n",
    "       res[i] = (X_b.dot(theta)-y).dot(X_b[:, i]) # 取出第i个特征列\n",
    "    return res * 2 / len(X_b) # len(X_b)==len(y)"
   ]
  },
  {
   "cell_type": "code",
   "execution_count": 15,
   "metadata": {},
   "outputs": [
    {
     "name": "stdout",
     "output_type": "stream",
     "text": [
      "1\n",
      "2\n",
      "3\n",
      "4\n"
     ]
    }
   ],
   "source": [
    "# for i in range(len(y)):\n",
    "#     print(i)\n",
    "for i in range(1, 5): # 不包含5\n",
    "    print(i)"
   ]
  },
  {
   "cell_type": "code",
   "execution_count": 16,
   "metadata": {},
   "outputs": [],
   "source": [
    "def gradient_descent(X_b, y, initial_theta, eta, n_iters = 1e4, epsilon = 1e-8):\n",
    "    # 梯度下降法就是从一个初值出发\n",
    "    theta = initial_theta # 这里的参数是一个向量了\n",
    "    # 因为theta现在是高维向量了，无法绘制，所以跟踪theta_history也没意义了\n",
    "    # 循环变化并比较是否到达极值点\n",
    "    # while true: # 由于可能参数不恰当以及有限的计算资源，我们不应该使用while true，除非肯定可以结束\n",
    "    i_iter = 0\n",
    "    while i_iter < n_iters:\n",
    "        gradient = dJ(theta, X_b, y)\n",
    "        last_theta = theta\n",
    "        # 计算新的theta\n",
    "        # theta = theta - eta * dJ(theta, X_b, y)\n",
    "        theta = theta - eta * gradient\n",
    "        # 比较新的值\n",
    "        if np.abs(J(theta, X_b, y)-J(last_theta, X_b, y)) < epsilon:\n",
    "            break\n",
    "        i_iter += 1\n",
    "        \n",
    "    return theta"
   ]
  },
  {
   "cell_type": "code",
   "execution_count": 17,
   "metadata": {},
   "outputs": [],
   "source": [
    "X_b = np.hstack([np.ones((len(X), 1)), X])\n",
    "initial_theta = np.zeros(X_b.shape[1])\n",
    "eta = 0.01\n",
    "\n",
    "theta = gradient_descent(X_b, y, initial_theta, eta)"
   ]
  },
  {
   "cell_type": "code",
   "execution_count": 18,
   "metadata": {},
   "outputs": [
    {
     "data": {
      "text/plain": [
       "array([ 4.00259533,  3.04523224])"
      ]
     },
     "execution_count": 18,
     "metadata": {},
     "output_type": "execute_result"
    }
   ],
   "source": [
    "theta # 对应的就是截距和斜率\n",
    "# 又遇到傻x了幸好坐远了"
   ]
  },
  {
   "cell_type": "code",
   "execution_count": 19,
   "metadata": {},
   "outputs": [
    {
     "data": {
      "text/plain": [
       "(2,)"
      ]
     },
     "execution_count": 19,
     "metadata": {},
     "output_type": "execute_result"
    }
   ],
   "source": [
    "theta.shape # 可以发现theta是向量类型，部分行列向量"
   ]
  },
  {
   "cell_type": "markdown",
   "metadata": {},
   "source": [
    "### 封装我们的线性回归算法"
   ]
  },
  {
   "cell_type": "markdown",
   "metadata": {},
   "source": [
    "使用梯度下降优化算法优化我们的模型"
   ]
  },
  {
   "cell_type": "code",
   "execution_count": 20,
   "metadata": {},
   "outputs": [],
   "source": [
    "import sys\n",
    "sys.path.append(\"../../\")"
   ]
  },
  {
   "cell_type": "code",
   "execution_count": 22,
   "metadata": {},
   "outputs": [
    {
     "data": {
      "text/plain": [
       "LinearRegression()"
      ]
     },
     "execution_count": 22,
     "metadata": {},
     "output_type": "execute_result"
    }
   ],
   "source": [
    "from playML.LinearRegression import LinearRegression\n",
    "\n",
    "lin_reg = LinearRegression() # 调用构造函数\n",
    "lin_reg.fit_gd(X, y)"
   ]
  },
  {
   "cell_type": "code",
   "execution_count": 23,
   "metadata": {},
   "outputs": [
    {
     "data": {
      "text/plain": [
       "array([ 3.04523224])"
      ]
     },
     "execution_count": 23,
     "metadata": {},
     "output_type": "execute_result"
    }
   ],
   "source": [
    "lin_reg.coef_"
   ]
  },
  {
   "cell_type": "code",
   "execution_count": 24,
   "metadata": {},
   "outputs": [
    {
     "data": {
      "text/plain": [
       "4.0025953272312638"
      ]
     },
     "execution_count": 24,
     "metadata": {},
     "output_type": "execute_result"
    }
   ],
   "source": [
    "lin_reg.interception_"
   ]
  }
 ],
 "metadata": {
  "kernelspec": {
   "display_name": "Python 3",
   "language": "python",
   "name": "python3"
  },
  "language_info": {
   "codemirror_mode": {
    "name": "ipython",
    "version": 3
   },
   "file_extension": ".py",
   "mimetype": "text/x-python",
   "name": "python",
   "nbconvert_exporter": "python",
   "pygments_lexer": "ipython3",
   "version": "3.6.2"
  }
 },
 "nbformat": 4,
 "nbformat_minor": 2
}
