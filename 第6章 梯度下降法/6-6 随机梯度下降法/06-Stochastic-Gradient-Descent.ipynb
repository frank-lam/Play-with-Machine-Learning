{
 "cells": [
  {
   "cell_type": "markdown",
   "metadata": {},
   "source": [
    "## 随机梯度下降法"
   ]
  },
  {
   "cell_type": "code",
   "execution_count": 1,
   "metadata": {
    "collapsed": true
   },
   "outputs": [],
   "source": [
    "import numpy as np\n",
    "import matplotlib.pyplot as plt"
   ]
  },
  {
   "cell_type": "code",
   "execution_count": 2,
   "metadata": {
    "collapsed": true
   },
   "outputs": [],
   "source": [
    "m = 100000 % 但是之前是用的1000个样本，现在是100倍了\n",
    "\n",
    "x = np.random.normal(size=m) # 产生m个样本\n",
    "X = x.reshape(-1, 1) # 写成矩阵的形式\n",
    "y = 4.*X + 3. + np.random.normal(0, 3, size=m) # X相当于x轴 "
   ]
  },
  {
   "cell_type": "code",
   "execution_count": 3,
   "metadata": {
    "collapsed": true
   },
   "outputs": [],
   "source": [
    "def J(theta, X_b, y): # 计算导数才是真正困难的地方\n",
    "    try: # 这个不会出现inf的现象，但是会有OverflowError的可能\n",
    "        return np.sum((y - X_b.dot(theta)) ** 2) / len(y)\n",
    "    except OverflowError:\n",
    "        return float('inf')\n",
    "    \n",
    "def dJ(theta, X_b, y):\n",
    "    return X_b.T.dot(X_b.dot(theta) - y) * 2. / len(y)\n",
    "\n",
    "# X_b实际的样本输入矩阵\n",
    "# 为什么是梯度下降呢？因为我们的要最小化损失函数啊，或者最大化效率函数啊\n",
    "def gradient_descent(X_b, y, initial_theta, eta, n_iters=1e4, epsilon=1e-8):\n",
    "    \n",
    "    theta = initial_theta\n",
    "    cur_iter = 0 # 遇到不会的不要卡主啊，不是说不被卡主的能力吗？\n",
    "    \n",
    "    while cur_iter < n_iters:\n",
    "        gradient = dJ(theta, X_b, y)\n",
    "        last_theta = theta\n",
    "        theta = theta - eta * gradient # 最基本的思想\n",
    "        # 终止条件\n",
    "        if (abs(J(theta, X_b, y) - J(last_theta, X_b, y)) < epsilon):\n",
    "            break\n",
    "        \n",
    "        cur_iter += 1\n",
    "        \n",
    "    return theta"
   ]
  },
  {
   "cell_type": "code",
   "execution_count": 4,
   "metadata": {},
   "outputs": [
    {
     "name": "stdout",
     "output_type": "stream",
     "text": [
      "Wall time: 1.26 s\n"
     ]
    }
   ],
   "source": [
    "%%time\n",
    "X_b = np.hstack([np.ones((len(X), 1)), X])\n",
    "initial_theta = np.zeros(X_b.shape[1])\n",
    "eta = 0.01\n",
    "theta = gradient_descent(X_b, y, initial_theta, eta)"
   ]
  },
  {
   "cell_type": "code",
   "execution_count": 5,
   "metadata": {},
   "outputs": [
    {
     "data": {
      "text/plain": [
       "array([ 2.99549148,  3.98880041])"
      ]
     },
     "execution_count": 5,
     "metadata": {},
     "output_type": "execute_result"
    }
   ],
   "source": [
    "theta"
   ]
  },
  {
   "cell_type": "markdown",
   "metadata": {},
   "source": [
    "### 随机梯度下降法"
   ]
  },
  {
   "cell_type": "code",
   "execution_count": 11,
   "metadata": {
    "collapsed": true
   },
   "outputs": [],
   "source": [
    "# def dJ_sgd(theta, X_b, y):\n",
    "def dJ_sgd(theta, X_b_i, y_i): # y_i是什么意思啊？y不就是标签向量吗？  \n",
    "    # return X_b.T.dot((theta) - y) * 2. / len(y)\n",
    "    return X_b_i.T.dot(X_b_i.dot(theta) - y_i) * 2."
   ]
  },
  {
   "cell_type": "code",
   "execution_count": 27,
   "metadata": {
    "collapsed": true
   },
   "outputs": [],
   "source": [
    "# 梯度下降法过程\n",
    "def sgd(X_b, y, initial_theta, n_iters, t0=5, t1=50):\n",
    "    # 不需要传eta了\n",
    "    # t0 = 5  \n",
    "    # t1 = 50\n",
    "    \n",
    "    def learning_rate(t):\n",
    "        return t0 / (t + t1)\n",
    "\n",
    "    theta = initial_theta\n",
    "    rand_i = np.random.randint(len(X_b))\n",
    "    for cur_iter in range(n_iters):\n",
    "        # rand_i = np.random.randint(len(X_b)) # 随机提取样本行数，从索引0开始吧\n",
    "        gradient = dJ_sgd(theta, X_b[rand_i], y[rand_i])\n",
    "        theta = theta - learning_rate(cur_iter) * gradient\n",
    "        # print(J(theta, X_b, y))\n",
    "    print(J(theta, X_b, y))\n",
    "    return theta # 随机梯度下降法"
   ]
  },
  {
   "cell_type": "markdown",
   "metadata": {},
   "source": [
    "### 测试随机梯度下降法"
   ]
  },
  {
   "cell_type": "code",
   "execution_count": 42,
   "metadata": {},
   "outputs": [
    {
     "name": "stdout",
     "output_type": "stream",
     "text": [
      "80.8369616524\n",
      "Wall time: 261 ms\n"
     ]
    }
   ],
   "source": [
    "%%time\n",
    "X_b = np.hstack([np.ones((len(X), 1)), X]) # 生成了供其他函数使用的\n",
    "initial_theta = np.zeros(X_b.shape[1]) # 和样本特征数目是一致的，注意是X_b\n",
    "theta = sgd(X_b, y, initial_theta, n_iters=len(X_b)//3) # 只检测了1/3的样本时就效果很好了\n",
    "# theta = sgd(X_b, y, initial_thn_iterseta, =len(X_b))\n",
    "# 展示了这种策略的强大之处"
   ]
  },
  {
   "cell_type": "code",
   "execution_count": 34,
   "metadata": {},
   "outputs": [
    {
     "data": {
      "text/plain": [
       "array([ 2.55640616,  3.7391099 ])"
      ]
     },
     "execution_count": 34,
     "metadata": {},
     "output_type": "execute_result"
    }
   ],
   "source": [
    "theta"
   ]
  },
  {
   "cell_type": "markdown",
   "metadata": {},
   "source": [
    "封装py脚本的需要注意的地方\n",
    "1. self\n",
    "2. assert\n",
    "3. 最外层的函数传入的是数据集合超参数"
   ]
  },
  {
   "cell_type": "code",
   "execution_count": null,
   "metadata": {
    "collapsed": true
   },
   "outputs": [],
   "source": []
  }
 ],
 "metadata": {
  "kernelspec": {
   "display_name": "Python 3",
   "language": "python",
   "name": "python3"
  },
  "language_info": {
   "codemirror_mode": {
    "name": "ipython",
    "version": 3
   },
   "file_extension": ".py",
   "mimetype": "text/x-python",
   "name": "python",
   "nbconvert_exporter": "python",
   "pygments_lexer": "ipython3",
   "version": "3.6.2"
  }
 },
 "nbformat": 4,
 "nbformat_minor": 2
}
