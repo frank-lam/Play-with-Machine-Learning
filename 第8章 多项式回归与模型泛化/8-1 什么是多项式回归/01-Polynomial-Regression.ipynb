{
 "cells": [
  {
   "cell_type": "markdown",
   "metadata": {},
   "source": [
    "### 多项式回归"
   ]
  },
  {
   "cell_type": "code",
   "execution_count": 1,
   "metadata": {},
   "outputs": [],
   "source": [
    "import numpy as np\n",
    "import matplotlib.pyplot as  plt"
   ]
  },
  {
   "cell_type": "code",
   "execution_count": 2,
   "metadata": {},
   "outputs": [],
   "source": [
    "x = np.random.uniform(-3, 3, size=100) # 向量没有行列之分\n",
    "X = x.reshape(-1, 1) # 转换为矩阵的形式"
   ]
  },
  {
   "cell_type": "code",
   "execution_count": 3,
   "metadata": {},
   "outputs": [
    {
     "data": {
      "text/plain": [
       "array([[ 0.93857639],\n",
       "       [-0.68133982],\n",
       "       [ 2.04233535],\n",
       "       [-0.61343271],\n",
       "       [ 1.50333945],\n",
       "       [-0.3923173 ],\n",
       "       [-1.54273508],\n",
       "       [ 1.6309845 ],\n",
       "       [-0.26769671],\n",
       "       [-2.36535186],\n",
       "       [ 0.75119207],\n",
       "       [ 0.45909509],\n",
       "       [ 2.68580279],\n",
       "       [-0.2384336 ],\n",
       "       [ 0.41301238],\n",
       "       [ 1.80737158],\n",
       "       [-1.91530484],\n",
       "       [ 0.77615834],\n",
       "       [-0.12288268],\n",
       "       [ 1.84189093],\n",
       "       [ 2.53542757],\n",
       "       [-1.29329101],\n",
       "       [ 0.22678433],\n",
       "       [-0.6251218 ],\n",
       "       [-1.54457358],\n",
       "       [ 0.75572987],\n",
       "       [-1.96519279],\n",
       "       [ 1.55226971],\n",
       "       [-1.5999809 ],\n",
       "       [-2.178904  ],\n",
       "       [ 1.04836171],\n",
       "       [-0.7844833 ],\n",
       "       [-1.28995247],\n",
       "       [-0.63645469],\n",
       "       [ 0.90824792],\n",
       "       [ 2.18634693],\n",
       "       [ 0.59863445],\n",
       "       [-0.68465042],\n",
       "       [-1.00556878],\n",
       "       [ 1.53846342],\n",
       "       [-2.7596774 ],\n",
       "       [-1.15066975],\n",
       "       [-1.27090853],\n",
       "       [-0.95305005],\n",
       "       [-2.83312269],\n",
       "       [ 0.19400786],\n",
       "       [ 0.09959251],\n",
       "       [-0.35689572],\n",
       "       [-2.39630119],\n",
       "       [ 1.11803882],\n",
       "       [-0.6826095 ],\n",
       "       [-2.00287253],\n",
       "       [ 0.45514312],\n",
       "       [ 0.54862732],\n",
       "       [-2.56553917],\n",
       "       [ 2.7728267 ],\n",
       "       [ 1.69357155],\n",
       "       [-0.96044443],\n",
       "       [-2.52811352],\n",
       "       [-1.00716973],\n",
       "       [-1.37170929],\n",
       "       [ 0.43085449],\n",
       "       [ 0.8600514 ],\n",
       "       [-1.88746538],\n",
       "       [ 2.47602742],\n",
       "       [ 2.74082715],\n",
       "       [-1.32620118],\n",
       "       [ 0.3534504 ],\n",
       "       [ 0.64439661],\n",
       "       [ 1.57011259],\n",
       "       [ 1.18785174],\n",
       "       [-0.12810773],\n",
       "       [-0.78739079],\n",
       "       [-1.66918601],\n",
       "       [-2.22676771],\n",
       "       [ 1.85449335],\n",
       "       [-2.51512385],\n",
       "       [ 1.83177894],\n",
       "       [ 2.91260088],\n",
       "       [ 2.9000007 ],\n",
       "       [ 0.02590848],\n",
       "       [-0.12324789],\n",
       "       [ 0.03764388],\n",
       "       [-2.2742913 ],\n",
       "       [ 0.22365613],\n",
       "       [-2.30421886],\n",
       "       [-2.37537758],\n",
       "       [-1.68839596],\n",
       "       [-0.03766166],\n",
       "       [-2.22446014],\n",
       "       [-1.03686371],\n",
       "       [ 2.74230925],\n",
       "       [-1.35719414],\n",
       "       [ 0.51396306],\n",
       "       [ 0.21216811],\n",
       "       [-1.01720014],\n",
       "       [-1.4083172 ],\n",
       "       [-2.91821081],\n",
       "       [ 1.74667073],\n",
       "       [-2.18401484]])"
      ]
     },
     "execution_count": 3,
     "metadata": {},
     "output_type": "execute_result"
    }
   ],
   "source": [
    "X # 乱序的哦"
   ]
  },
  {
   "cell_type": "code",
   "execution_count": 4,
   "metadata": {},
   "outputs": [],
   "source": [
    "y = 0.5 * x**2 + x + 2 + np.random.normal(0, 1, size=100)"
   ]
  },
  {
   "cell_type": "code",
   "execution_count": 5,
   "metadata": {},
   "outputs": [
    {
     "data": {
      "image/png": "[encoded data removed]",
      "text/plain": [
       "<matplotlib.figure.Figure at 0x1cad43def28>"
      ]
     },
     "metadata": {},
     "output_type": "display_data"
    }
   ],
   "source": [
    "plt.scatter(X, y)\n",
    "plt.show()"
   ]
  },
  {
   "cell_type": "code",
   "execution_count": 6,
   "metadata": {},
   "outputs": [
    {
     "data": {
      "text/plain": [
       "LinearRegression(copy_X=True, fit_intercept=True, n_jobs=1, normalize=False)"
      ]
     },
     "execution_count": 6,
     "metadata": {},
     "output_type": "execute_result"
    }
   ],
   "source": [
    "# 天呐，线性回归的过程又忘了，线性回归是问题，该问题有好几种解决方法\n",
    "from sklearn.linear_model import LinearRegression\n",
    "\n",
    "lin_reg = LinearRegression()\n",
    "lin_reg.fit(X, y) # X是样本数据集，x是坐标轴，哦哦"
   ]
  },
  {
   "cell_type": "code",
   "execution_count": 7,
   "metadata": {},
   "outputs": [],
   "source": [
    "y_predict = lin_reg.predict(X)"
   ]
  },
  {
   "cell_type": "code",
   "execution_count": 8,
   "metadata": {},
   "outputs": [
    {
     "data": {
      "image/png": "[encoded data removed]",
      "text/plain": [
       "<matplotlib.figure.Figure at 0x1cad55ef0f0>"
      ]
     },
     "metadata": {},
     "output_type": "display_data"
    }
   ],
   "source": [
    "plt.scatter(X, y)\n",
    "plt.plot(x, y_predict, color='r') # 折线图的方式绘制拟合曲线\n",
    "plt.show()"
   ]
  },
  {
   "cell_type": "markdown",
   "metadata": {},
   "source": [
    "### 解决方案，添加一个特征"
   ]
  },
  {
   "cell_type": "code",
   "execution_count": 9,
   "metadata": {},
   "outputs": [
    {
     "data": {
      "text/plain": [
       "(100, 1)"
      ]
     },
     "execution_count": 9,
     "metadata": {},
     "output_type": "execute_result"
    }
   ],
   "source": [
    "(X**2).shape # 生成一个新的特征"
   ]
  },
  {
   "cell_type": "code",
   "execution_count": 10,
   "metadata": {},
   "outputs": [],
   "source": [
    "X2 = np.hstack([X, X**2]) # 垂直添加新特征"
   ]
  },
  {
   "cell_type": "code",
   "execution_count": 11,
   "metadata": {},
   "outputs": [
    {
     "data": {
      "text/plain": [
       "(100, 2)"
      ]
     },
     "execution_count": 11,
     "metadata": {},
     "output_type": "execute_result"
    }
   ],
   "source": [
    "X2.shape"
   ]
  },
  {
   "cell_type": "code",
   "execution_count": 12,
   "metadata": {},
   "outputs": [],
   "source": [
    "lin_reg2 = LinearRegression()\n",
    "lin_reg2.fit(X2, y)\n",
    "y_predict2 = lin_reg2.predict(X2)"
   ]
  },
  {
   "cell_type": "code",
   "execution_count": 16,
   "metadata": {},
   "outputs": [
    {
     "data": {
      "image/png": "[encoded data removed]",
      "text/plain": [
       "<matplotlib.figure.Figure at 0x1cad56c9e80>"
      ]
     },
     "metadata": {},
     "output_type": "display_data"
    }
   ],
   "source": [
    "plt.scatter(X, y)\n",
    "# plt.plot(np.sort(X), y_predict2[np.argsort(X)], color='r')\n",
    "plt.plot(np.sort(x), y_predict2[np.argsort(x)], color='r')\n",
    "plt.show()"
   ]
  },
  {
   "cell_type": "code",
   "execution_count": 15,
   "metadata": {},
   "outputs": [
    {
     "data": {
      "text/plain": [
       "array([0.91365507, 0.50642993])"
      ]
     },
     "execution_count": 15,
     "metadata": {},
     "output_type": "execute_result"
    }
   ],
   "source": [
    "lin_reg2.coef_ # 第1个系数应该是X前面的系数，第2个系数应该是X^2前面的系数"
   ]
  },
  {
   "cell_type": "code",
   "execution_count": 17,
   "metadata": {},
   "outputs": [
    {
     "data": {
      "text/plain": [
       "1.9156575798453228"
      ]
     },
     "execution_count": 17,
     "metadata": {},
     "output_type": "execute_result"
    }
   ],
   "source": [
    "lin_reg2.intercept_"
   ]
  },
  {
   "cell_type": "code",
   "execution_count": null,
   "metadata": {},
   "outputs": [],
   "source": []
  }
 ],
 "metadata": {
  "kernelspec": {
   "display_name": "Python 3",
   "language": "python",
   "name": "python3"
  },
  "language_info": {
   "codemirror_mode": {
    "name": "ipython",
    "version": 3
   },
   "file_extension": ".py",
   "mimetype": "text/x-python",
   "name": "python",
   "nbconvert_exporter": "python",
   "pygments_lexer": "ipython3",
   "version": "3.6.4"
  }
 },
 "nbformat": 4,
 "nbformat_minor": 2
}
